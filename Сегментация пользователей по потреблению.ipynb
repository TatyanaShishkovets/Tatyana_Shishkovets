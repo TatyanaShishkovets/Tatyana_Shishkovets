{
 "cells": [
  {
   "cell_type": "markdown",
   "id": "c96a498e",
   "metadata": {},
   "source": [
    "#### Дашборд по проекту \"Сегментация пользователей по потреблению\""
   ]
  },
  {
   "cell_type": "markdown",
   "id": "9bda0a6f",
   "metadata": {},
   "source": [
    "Задача:\n",
    "- Сформировать дашборд в соответствии с Набором №1;\n",
    "- Опубликовать дашборд на сайте Tableau Public.\n",
    "\n",
    "Набор №1\n",
    "1. Постройте диаграмму, отражающую количество клиентов в зависимости от\n",
    "числа используемых продуктов.\n",
    "2. Добавьте на тот же график индикатор процента ушедших клиентов (уровень\n",
    "оттока среди владельцев данного числа продуктов).\n",
    "3. Добавьте фильтр дашборда по городу."
   ]
  },
  {
   "cell_type": "markdown",
   "id": "1a669362",
   "metadata": {},
   "source": [
    "Ссылка на дашборд: https://public.tableau.com/app/profile/.74602861/viz/__16897669922690/sheet1?publish=yes"
   ]
  }
 ],
 "metadata": {
  "kernelspec": {
   "display_name": "Python 3 (ipykernel)",
   "language": "python",
   "name": "python3"
  },
  "language_info": {
   "codemirror_mode": {
    "name": "ipython",
    "version": 3
   },
   "file_extension": ".py",
   "mimetype": "text/x-python",
   "name": "python",
   "nbconvert_exporter": "python",
   "pygments_lexer": "ipython3",
   "version": "3.9.13"
  },
  "toc": {
   "base_numbering": 1,
   "nav_menu": {},
   "number_sections": true,
   "sideBar": true,
   "skip_h1_title": true,
   "title_cell": "Table of Contents",
   "title_sidebar": "Contents",
   "toc_cell": false,
   "toc_position": {},
   "toc_section_display": true,
   "toc_window_display": false
  }
 },
 "nbformat": 4,
 "nbformat_minor": 5
}
